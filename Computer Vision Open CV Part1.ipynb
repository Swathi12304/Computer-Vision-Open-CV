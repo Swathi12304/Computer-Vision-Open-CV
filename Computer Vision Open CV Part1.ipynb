{
 "cells": [
  {
   "cell_type": "code",
   "execution_count": 21,
   "id": "a272f3c7",
   "metadata": {},
   "outputs": [],
   "source": [
    "import numpy as np\n",
    "import cv2"
   ]
  },
  {
   "cell_type": "code",
   "execution_count": 37,
   "id": "053233db",
   "metadata": {},
   "outputs": [],
   "source": [
    "import cv2\n",
    "video = cv2.VideoCapture(r\"C:\\Users\\HP\\Downloads\\road_view.mp4\")\n",
    "\n",
    "while True:\n",
    "    ret, frame=video.read()\n",
    "    if not ret:\n",
    "        video = cv2.VideoCapture(r\"C:\\Users\\HP\\Downloads\\road_view.mp4\")\n",
    "        continue\n",
    "        \n",
    "        hsv = cv2.cvtColor(frame, cv2.COLOR_BGR2HSV)\n",
    "        low_yellow = np.array([18, 94, 140])\n",
    "        up_yellow = np.array([48, 255, 255])\n",
    "        mask = cv2.inRange(hsv, low_yellow, up_yellow)\n",
    "        edges = cv2.Canny(mask, 100, 200)\n",
    "        lines = cv2.HoughLinesP(edges, 1, np.pi/180, 50, maxLineGap = 50)\n",
    "        if lines is not None:\n",
    "            for line in lines:\n",
    "                x1,y1,x2,y2 = line[0]\n",
    "                cv2.line(frame, (x1,y1), (x2,y2), (0, 255, 0), 5)\n",
    "                \n",
    "        \n",
    "        \n",
    "        #cv2.imshow('video',frame)   \n",
    "  \n",
    "        \n",
    "    cv2.imshow(\"frame\", frame)\n",
    "    cv2.imshow(\"edges\", edges)\n",
    "    \n",
    "    if cv2.waitKey(10) & 0Xff ==ord('q'):  \n",
    "        break\n",
    "video.release()\n",
    "cv2.destroyAllWindows()"
   ]
  },
  {
   "cell_type": "code",
   "execution_count": null,
   "id": "7e1897ce",
   "metadata": {},
   "outputs": [],
   "source": []
  }
 ],
 "metadata": {
  "kernelspec": {
   "display_name": "Python 3",
   "language": "python",
   "name": "python3"
  },
  "language_info": {
   "codemirror_mode": {
    "name": "ipython",
    "version": 3
   },
   "file_extension": ".py",
   "mimetype": "text/x-python",
   "name": "python",
   "nbconvert_exporter": "python",
   "pygments_lexer": "ipython3",
   "version": "3.8.8"
  }
 },
 "nbformat": 4,
 "nbformat_minor": 5
}
